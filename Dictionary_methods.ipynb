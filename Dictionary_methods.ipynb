{
 "cells": [
  {
   "cell_type": "code",
   "execution_count": 230,
   "id": "c6d516ac",
   "metadata": {},
   "outputs": [],
   "source": [
    "d={}"
   ]
  },
  {
   "cell_type": "code",
   "execution_count": 231,
   "id": "be0328a6",
   "metadata": {},
   "outputs": [
    {
     "data": {
      "text/plain": [
       "dict"
      ]
     },
     "execution_count": 231,
     "metadata": {},
     "output_type": "execute_result"
    }
   ],
   "source": [
    "type(d)"
   ]
  },
  {
   "cell_type": "code",
   "execution_count": 232,
   "id": "3cc287b4",
   "metadata": {},
   "outputs": [],
   "source": [
    "d={'id':34,'name':'sachin','phone':[123,456]}"
   ]
  },
  {
   "cell_type": "code",
   "execution_count": 233,
   "id": "a2e0a858",
   "metadata": {},
   "outputs": [
    {
     "data": {
      "text/plain": [
       "['__class__',\n",
       " '__class_getitem__',\n",
       " '__contains__',\n",
       " '__delattr__',\n",
       " '__delitem__',\n",
       " '__dir__',\n",
       " '__doc__',\n",
       " '__eq__',\n",
       " '__format__',\n",
       " '__ge__',\n",
       " '__getattribute__',\n",
       " '__getitem__',\n",
       " '__gt__',\n",
       " '__hash__',\n",
       " '__init__',\n",
       " '__init_subclass__',\n",
       " '__ior__',\n",
       " '__iter__',\n",
       " '__le__',\n",
       " '__len__',\n",
       " '__lt__',\n",
       " '__ne__',\n",
       " '__new__',\n",
       " '__or__',\n",
       " '__reduce__',\n",
       " '__reduce_ex__',\n",
       " '__repr__',\n",
       " '__reversed__',\n",
       " '__ror__',\n",
       " '__setattr__',\n",
       " '__setitem__',\n",
       " '__sizeof__',\n",
       " '__str__',\n",
       " '__subclasshook__',\n",
       " 'clear',\n",
       " 'copy',\n",
       " 'fromkeys',\n",
       " 'get',\n",
       " 'items',\n",
       " 'keys',\n",
       " 'pop',\n",
       " 'popitem',\n",
       " 'setdefault',\n",
       " 'update',\n",
       " 'values']"
      ]
     },
     "execution_count": 233,
     "metadata": {},
     "output_type": "execute_result"
    }
   ],
   "source": [
    "dir(d)"
   ]
  },
  {
   "cell_type": "markdown",
   "id": "20812d54",
   "metadata": {},
   "source": [
    "### get()"
   ]
  },
  {
   "cell_type": "code",
   "execution_count": 234,
   "id": "b35a4b9c",
   "metadata": {},
   "outputs": [
    {
     "data": {
      "text/plain": [
       "[123, 456]"
      ]
     },
     "execution_count": 234,
     "metadata": {},
     "output_type": "execute_result"
    }
   ],
   "source": [
    "d.get('phone')"
   ]
  },
  {
   "cell_type": "code",
   "execution_count": 235,
   "id": "fb406abb",
   "metadata": {},
   "outputs": [
    {
     "name": "stdout",
     "output_type": "stream",
     "text": [
      "None\n"
     ]
    }
   ],
   "source": [
    "print(d.get('ho'))\n",
    "#print(d['ho']) #this throw error"
   ]
  },
  {
   "cell_type": "markdown",
   "id": "3f6b904c",
   "metadata": {},
   "source": [
    "### items()"
   ]
  },
  {
   "cell_type": "code",
   "execution_count": 236,
   "id": "0226162c",
   "metadata": {},
   "outputs": [
    {
     "data": {
      "text/plain": [
       "dict_items([('id', 34), ('name', 'sachin'), ('phone', [123, 456])])"
      ]
     },
     "execution_count": 236,
     "metadata": {},
     "output_type": "execute_result"
    }
   ],
   "source": [
    "d.items() #return key, value pairs"
   ]
  },
  {
   "cell_type": "markdown",
   "id": "cafefab2",
   "metadata": {},
   "source": [
    "### keys()"
   ]
  },
  {
   "cell_type": "code",
   "execution_count": 237,
   "id": "0981f7ab",
   "metadata": {},
   "outputs": [
    {
     "data": {
      "text/plain": [
       "dict_keys(['id', 'name', 'phone'])"
      ]
     },
     "execution_count": 237,
     "metadata": {},
     "output_type": "execute_result"
    }
   ],
   "source": [
    "d.keys()  #return keys"
   ]
  },
  {
   "cell_type": "markdown",
   "id": "1180dddf",
   "metadata": {},
   "source": [
    "### values()"
   ]
  },
  {
   "cell_type": "code",
   "execution_count": 238,
   "id": "8d5b8c57",
   "metadata": {},
   "outputs": [
    {
     "data": {
      "text/plain": [
       "dict_values([34, 'sachin', [123, 456]])"
      ]
     },
     "execution_count": 238,
     "metadata": {},
     "output_type": "execute_result"
    }
   ],
   "source": [
    "d.values()  #return values"
   ]
  },
  {
   "cell_type": "markdown",
   "id": "4a796a04",
   "metadata": {},
   "source": [
    "### update()"
   ]
  },
  {
   "cell_type": "code",
   "execution_count": 239,
   "id": "e809f2e4",
   "metadata": {},
   "outputs": [
    {
     "data": {
      "text/plain": [
       "{'id': 34, 'name': 'sachin', 'phone': [123, 456], 'PIN': 4565}"
      ]
     },
     "execution_count": 239,
     "metadata": {},
     "output_type": "execute_result"
    }
   ],
   "source": [
    "d.update({'PIN':4565})\n",
    "d"
   ]
  },
  {
   "cell_type": "markdown",
   "id": "dfc7724c",
   "metadata": {},
   "source": [
    "### copy()"
   ]
  },
  {
   "cell_type": "code",
   "execution_count": 240,
   "id": "3d5a5e57",
   "metadata": {},
   "outputs": [
    {
     "name": "stdout",
     "output_type": "stream",
     "text": [
      "{'id': 34, 'name': 'sachin', 'phone': [123, 456], 'PIN': 4565, 'State': 'goa'}\n",
      "{'id': 34, 'name': 'sachin', 'phone': [123, 456], 'PIN': 4565, 'State': 'goa'}\n",
      "{'id': 34, 'name': 'sachin', 'phone': [123, 456], 'PIN': 4565, 'country': 'india'}\n"
     ]
    }
   ],
   "source": [
    "s=d\n",
    "t=d.copy()   #copy() doesn't have affect on original dictionary\n",
    "s.update({'State':'goa'})\n",
    "t.update({'country':'india'})\n",
    "print(s,d,t,sep=\"\\n\")"
   ]
  },
  {
   "cell_type": "markdown",
   "id": "5078f502",
   "metadata": {},
   "source": [
    "### fromkeys()"
   ]
  },
  {
   "cell_type": "code",
   "execution_count": 241,
   "id": "58fa8d56",
   "metadata": {},
   "outputs": [
    {
     "name": "stdout",
     "output_type": "stream",
     "text": [
      "{'AI': 0, 'ML': 0}\n",
      "{'id': 34, 'name': 'sachin', 'phone': [123, 456], 'PIN': 4565, 'State': 'goa'}\n"
     ]
    }
   ],
   "source": [
    "#fromkeys[seq[, v]] -> Return a new dictionary with keys from seq and value equal to v (defaults to None).\n",
    "\n",
    "s={}.fromkeys(['AI','ML'],0)\n",
    "print(s,d,sep=\"\\n\")"
   ]
  },
  {
   "cell_type": "markdown",
   "id": "43e4594b",
   "metadata": {},
   "source": [
    "### pop()"
   ]
  },
  {
   "cell_type": "code",
   "execution_count": 242,
   "id": "7ab896f9",
   "metadata": {},
   "outputs": [
    {
     "data": {
      "text/plain": [
       "'not exist'"
      ]
     },
     "execution_count": 242,
     "metadata": {},
     "output_type": "execute_result"
    }
   ],
   "source": [
    "d.pop('hobby','not exist')  #we must give atleast one argument,if key not present it return 2 argument, otherwise it return poped value"
   ]
  },
  {
   "cell_type": "markdown",
   "id": "ea91e445",
   "metadata": {},
   "source": [
    "### popitem()"
   ]
  },
  {
   "cell_type": "code",
   "execution_count": 243,
   "id": "8162b974",
   "metadata": {},
   "outputs": [
    {
     "data": {
      "text/plain": [
       "('State', 'goa')"
      ]
     },
     "execution_count": 243,
     "metadata": {},
     "output_type": "execute_result"
    }
   ],
   "source": [
    "d.popitem()  # remove last item, no arguments taken"
   ]
  },
  {
   "cell_type": "markdown",
   "id": "2c0590a3",
   "metadata": {},
   "source": [
    "### setdefault()"
   ]
  },
  {
   "cell_type": "code",
   "execution_count": 244,
   "id": "e77525b6",
   "metadata": {},
   "outputs": [
    {
     "name": "stdout",
     "output_type": "stream",
     "text": [
      "{'id': 34, 'name': 'sachin', 'phone': [123, 456], 'PIN': 4565}\n",
      "{'id': 34, 'name': 'sachin', 'phone': [123, 456], 'PIN': 4565, 'country': 'india'}\n"
     ]
    }
   ],
   "source": [
    "d.setdefault('name','sh')  #if key already exist , this has no affect\n",
    "print(d)\n",
    "d.setdefault('country','india')   #if key doesn't exist, it updates.\n",
    "print(d)"
   ]
  },
  {
   "cell_type": "markdown",
   "id": "2589bb25",
   "metadata": {},
   "source": [
    "### clear()"
   ]
  },
  {
   "cell_type": "code",
   "execution_count": 245,
   "id": "f42c6963",
   "metadata": {},
   "outputs": [
    {
     "data": {
      "text/plain": [
       "{}"
      ]
     },
     "execution_count": 245,
     "metadata": {},
     "output_type": "execute_result"
    }
   ],
   "source": [
    "d.clear()\n",
    "d"
   ]
  },
  {
   "cell_type": "code",
   "execution_count": null,
   "id": "84857452",
   "metadata": {},
   "outputs": [],
   "source": []
  }
 ],
 "metadata": {
  "hide_input": false,
  "kernelspec": {
   "display_name": "Python 3 (ipykernel)",
   "language": "python",
   "name": "python3"
  },
  "language_info": {
   "codemirror_mode": {
    "name": "ipython",
    "version": 3
   },
   "file_extension": ".py",
   "mimetype": "text/x-python",
   "name": "python",
   "nbconvert_exporter": "python",
   "pygments_lexer": "ipython3",
   "version": "3.9.13"
  }
 },
 "nbformat": 4,
 "nbformat_minor": 5
}
